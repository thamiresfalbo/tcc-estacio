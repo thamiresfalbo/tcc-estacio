{
 "cells": [
  {
   "cell_type": "code",
   "execution_count": 5,
   "metadata": {},
   "outputs": [],
   "source": [
    "import pandas as pd\n",
    "from babel.numbers import format_compact_currency\n",
    "import matplotlib.pyplot as plt\n",
    "import locale\n",
    "\n",
    "locale.setlocale(locale.LC_ALL, 'pt_BR') \n",
    "plt.style.use('grayscale')\n",
    "\n",
    "excelsheet = \"source/criptoativos_dados_abertos_09072023.xls\"\n",
    "\n",
    "with pd.ExcelFile(excelsheet) as xls:\n",
    "   df1 = pd.read_excel(xls, \"Relatorio1\", skiprows = 7, decimal=\",\",header=[0,1,2])\n",
    "   df2 = pd.read_excel(xls, \"Relatorio2\")\n",
    "   df3 = pd.read_excel(xls, \"Relatório3\")\n",
    "   df4 = pd.read_excel(xls, \"Relatorio4\")\n"
   ]
  },
  {
   "cell_type": "code",
   "execution_count": 6,
   "metadata": {},
   "outputs": [],
   "source": [
    "# df1[df1.columns[0]] = pd.to_datetime(df1[df1.columns[0]], format=\"%B de %Y\")\n",
    "# df1.convert_dtypes()\n",
    "\n",
    "# df1_new = df1.groupby(df1[df1.columns[0]].dt.year.rename('year')).sum()\n",
    "\n",
    "# def process_numbers(myData):\n",
    "#     for i in myData.columns:\n",
    "#         if myData[i].dtype == np.float64:\n",
    "#             myData[i] = myData[i].apply(lambda x: format_compact_currency(x, currency=\"BRL\", locale=\"pt_BR\", fraction_digits=2)) \n",
    "#         else:\n",
    "#             continue\n",
    "\n",
    "\n",
    "\n",
    "\n",
    "# df1_new.plot.bar(y=[('Total Geral', 'Unnamed: 8_level_1', 'Unnamed: 8_level_2')])\n"
   ]
  },
  {
   "attachments": {},
   "cell_type": "markdown",
   "metadata": {},
   "source": [
    "# "
   ]
  }
 ],
 "metadata": {
  "kernelspec": {
   "display_name": "Python 3",
   "language": "python",
   "name": "python3"
  },
  "language_info": {
   "codemirror_mode": {
    "name": "ipython",
    "version": 3
   },
   "file_extension": ".py",
   "mimetype": "text/x-python",
   "name": "python",
   "nbconvert_exporter": "python",
   "pygments_lexer": "ipython3",
   "version": "3.11.4"
  },
  "orig_nbformat": 4
 },
 "nbformat": 4,
 "nbformat_minor": 2
}
