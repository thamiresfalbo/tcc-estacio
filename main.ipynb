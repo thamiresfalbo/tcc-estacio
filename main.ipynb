{
 "cells": [
  {
   "cell_type": "code",
   "execution_count": 227,
   "metadata": {},
   "outputs": [],
   "source": [
    "import numpy as np\n",
    "import pandas as pd\n",
    "import matplotlib.pyplot as plt\n",
    "import locale\n",
    "import babel \n",
    "from babel.numbers import format_compact_currency\n",
    "import numerize\n",
    "\n",
    "\n",
    "locale.setlocale(locale.LC_ALL, 'pt_BR') \n",
    "plt.style.use('grayscale')\n",
    "\n",
    "excelsheet = \"source/criptoativos_dados_abertos_02032023.xls\"\n",
    "\n",
    "with pd.ExcelFile(excelsheet) as xls:\n",
    "   df1 = pd.read_excel(xls, \"Relatorio1\",skiprows= 9, parse_dates=True, decimal=\",\")\n",
    "   df2 = pd.read_excel(xls, \"Relatorio2\")\n",
    "   df3 = pd.read_excel(xls, \"Relatório3\")\n",
    "   df4 = pd.read_excel(xls, \"Relatorio4\")\n"
   ]
  },
  {
   "cell_type": "code",
   "execution_count": 225,
   "metadata": {},
   "outputs": [
    {
     "name": "stderr",
     "output_type": "stream",
     "text": [
      "/var/folders/zg/ln0dh6h10cl5khbtyvg5z5rm0000gn/T/ipykernel_39304/1932650048.py:1: DeprecationWarning: In a future version, `df.iloc[:, i] = newvals` will attempt to set the values inplace instead of always setting a new array. To retain the old behavior, use either `df[df.columns[i]] = newvals` or, if columns are non-unique, `df.isetitem(i, newvals)`\n",
      "  df1.iloc[:,0] = pd.to_datetime( df1.iloc[:,0], format=\"%B de %Y\")\n"
     ]
    },
    {
     "ename": "InvalidOperation",
     "evalue": "[<class 'decimal.ConversionSyntax'>]",
     "output_type": "error",
     "traceback": [
      "\u001b[0;31m---------------------------------------------------------------------------\u001b[0m",
      "\u001b[0;31mInvalidOperation\u001b[0m                          Traceback (most recent call last)",
      "Cell \u001b[0;32mIn[225], line 9\u001b[0m\n\u001b[1;32m      2\u001b[0m df1\u001b[39m.\u001b[39mconvert_dtypes()\n\u001b[1;32m      6\u001b[0m \u001b[39m# df1.groupby(df1.iloc[:,0].dt.year)['Subtotal', 'Subtotal.1', 'Unnamed: 8'].sum().round(2)\u001b[39;00m\n\u001b[1;32m      7\u001b[0m \n\u001b[1;32m      8\u001b[0m \u001b[39m# df1.select_dtypes(include=[\"float64\"]) * 1000000\u001b[39;00m\n\u001b[0;32m----> 9\u001b[0m df1\u001b[39m.\u001b[39;49mselect_dtypes(include\u001b[39m=\u001b[39;49m[\u001b[39m\"\u001b[39;49m\u001b[39mfloat64\u001b[39;49m\u001b[39m\"\u001b[39;49m])\u001b[39m.\u001b[39;49mapply(\u001b[39mlambda\u001b[39;49;00m x: format_compact_currency(x, currency\u001b[39m=\u001b[39;49m\u001b[39m\"\u001b[39;49m\u001b[39mBRL\u001b[39;49m\u001b[39m\"\u001b[39;49m, locale\u001b[39m=\u001b[39;49m\u001b[39m\"\u001b[39;49m\u001b[39mpt_BR\u001b[39;49m\u001b[39m\"\u001b[39;49m, fraction_digits\u001b[39m=\u001b[39;49m\u001b[39m2\u001b[39;49m)) \n\u001b[1;32m     11\u001b[0m df1\u001b[39m.\u001b[39mhead()\n",
      "File \u001b[0;32m~/.asdf/installs/python/3.11.2/lib/python3.11/site-packages/pandas/core/frame.py:9568\u001b[0m, in \u001b[0;36mDataFrame.apply\u001b[0;34m(self, func, axis, raw, result_type, args, **kwargs)\u001b[0m\n\u001b[1;32m   9557\u001b[0m \u001b[39mfrom\u001b[39;00m \u001b[39mpandas\u001b[39;00m\u001b[39m.\u001b[39;00m\u001b[39mcore\u001b[39;00m\u001b[39m.\u001b[39;00m\u001b[39mapply\u001b[39;00m \u001b[39mimport\u001b[39;00m frame_apply\n\u001b[1;32m   9559\u001b[0m op \u001b[39m=\u001b[39m frame_apply(\n\u001b[1;32m   9560\u001b[0m     \u001b[39mself\u001b[39m,\n\u001b[1;32m   9561\u001b[0m     func\u001b[39m=\u001b[39mfunc,\n\u001b[0;32m   (...)\u001b[0m\n\u001b[1;32m   9566\u001b[0m     kwargs\u001b[39m=\u001b[39mkwargs,\n\u001b[1;32m   9567\u001b[0m )\n\u001b[0;32m-> 9568\u001b[0m \u001b[39mreturn\u001b[39;00m op\u001b[39m.\u001b[39;49mapply()\u001b[39m.\u001b[39m__finalize__(\u001b[39mself\u001b[39m, method\u001b[39m=\u001b[39m\u001b[39m\"\u001b[39m\u001b[39mapply\u001b[39m\u001b[39m\"\u001b[39m)\n",
      "File \u001b[0;32m~/.asdf/installs/python/3.11.2/lib/python3.11/site-packages/pandas/core/apply.py:764\u001b[0m, in \u001b[0;36mFrameApply.apply\u001b[0;34m(self)\u001b[0m\n\u001b[1;32m    761\u001b[0m \u001b[39melif\u001b[39;00m \u001b[39mself\u001b[39m\u001b[39m.\u001b[39mraw:\n\u001b[1;32m    762\u001b[0m     \u001b[39mreturn\u001b[39;00m \u001b[39mself\u001b[39m\u001b[39m.\u001b[39mapply_raw()\n\u001b[0;32m--> 764\u001b[0m \u001b[39mreturn\u001b[39;00m \u001b[39mself\u001b[39;49m\u001b[39m.\u001b[39;49mapply_standard()\n",
      "File \u001b[0;32m~/.asdf/installs/python/3.11.2/lib/python3.11/site-packages/pandas/core/apply.py:891\u001b[0m, in \u001b[0;36mFrameApply.apply_standard\u001b[0;34m(self)\u001b[0m\n\u001b[1;32m    890\u001b[0m \u001b[39mdef\u001b[39;00m \u001b[39mapply_standard\u001b[39m(\u001b[39mself\u001b[39m):\n\u001b[0;32m--> 891\u001b[0m     results, res_index \u001b[39m=\u001b[39m \u001b[39mself\u001b[39;49m\u001b[39m.\u001b[39;49mapply_series_generator()\n\u001b[1;32m    893\u001b[0m     \u001b[39m# wrap results\u001b[39;00m\n\u001b[1;32m    894\u001b[0m     \u001b[39mreturn\u001b[39;00m \u001b[39mself\u001b[39m\u001b[39m.\u001b[39mwrap_results(results, res_index)\n",
      "File \u001b[0;32m~/.asdf/installs/python/3.11.2/lib/python3.11/site-packages/pandas/core/apply.py:907\u001b[0m, in \u001b[0;36mFrameApply.apply_series_generator\u001b[0;34m(self)\u001b[0m\n\u001b[1;32m    904\u001b[0m \u001b[39mwith\u001b[39;00m option_context(\u001b[39m\"\u001b[39m\u001b[39mmode.chained_assignment\u001b[39m\u001b[39m\"\u001b[39m, \u001b[39mNone\u001b[39;00m):\n\u001b[1;32m    905\u001b[0m     \u001b[39mfor\u001b[39;00m i, v \u001b[39min\u001b[39;00m \u001b[39menumerate\u001b[39m(series_gen):\n\u001b[1;32m    906\u001b[0m         \u001b[39m# ignore SettingWithCopy here in case the user mutates\u001b[39;00m\n\u001b[0;32m--> 907\u001b[0m         results[i] \u001b[39m=\u001b[39m \u001b[39mself\u001b[39;49m\u001b[39m.\u001b[39;49mf(v)\n\u001b[1;32m    908\u001b[0m         \u001b[39mif\u001b[39;00m \u001b[39misinstance\u001b[39m(results[i], ABCSeries):\n\u001b[1;32m    909\u001b[0m             \u001b[39m# If we have a view on v, we need to make a copy because\u001b[39;00m\n\u001b[1;32m    910\u001b[0m             \u001b[39m#  series_generator will swap out the underlying data\u001b[39;00m\n\u001b[1;32m    911\u001b[0m             results[i] \u001b[39m=\u001b[39m results[i]\u001b[39m.\u001b[39mcopy(deep\u001b[39m=\u001b[39m\u001b[39mFalse\u001b[39;00m)\n",
      "Cell \u001b[0;32mIn[225], line 9\u001b[0m, in \u001b[0;36m<lambda>\u001b[0;34m(x)\u001b[0m\n\u001b[1;32m      2\u001b[0m df1\u001b[39m.\u001b[39mconvert_dtypes()\n\u001b[1;32m      6\u001b[0m \u001b[39m# df1.groupby(df1.iloc[:,0].dt.year)['Subtotal', 'Subtotal.1', 'Unnamed: 8'].sum().round(2)\u001b[39;00m\n\u001b[1;32m      7\u001b[0m \n\u001b[1;32m      8\u001b[0m \u001b[39m# df1.select_dtypes(include=[\"float64\"]) * 1000000\u001b[39;00m\n\u001b[0;32m----> 9\u001b[0m df1\u001b[39m.\u001b[39mselect_dtypes(include\u001b[39m=\u001b[39m[\u001b[39m\"\u001b[39m\u001b[39mfloat64\u001b[39m\u001b[39m\"\u001b[39m])\u001b[39m.\u001b[39mapply(\u001b[39mlambda\u001b[39;00m x: format_compact_currency(x, currency\u001b[39m=\u001b[39;49m\u001b[39m\"\u001b[39;49m\u001b[39mBRL\u001b[39;49m\u001b[39m\"\u001b[39;49m, locale\u001b[39m=\u001b[39;49m\u001b[39m\"\u001b[39;49m\u001b[39mpt_BR\u001b[39;49m\u001b[39m\"\u001b[39;49m, fraction_digits\u001b[39m=\u001b[39;49m\u001b[39m2\u001b[39;49m)) \n\u001b[1;32m     11\u001b[0m df1\u001b[39m.\u001b[39mhead()\n",
      "File \u001b[0;32m~/.asdf/installs/python/3.11.2/lib/python3.11/site-packages/babel/numbers.py:748\u001b[0m, in \u001b[0;36mformat_compact_currency\u001b[0;34m(number, currency, format_type, locale, fraction_digits)\u001b[0m\n\u001b[1;32m    746\u001b[0m \u001b[39mexcept\u001b[39;00m \u001b[39mKeyError\u001b[39;00m \u001b[39mas\u001b[39;00m error:\n\u001b[1;32m    747\u001b[0m     \u001b[39mraise\u001b[39;00m UnknownCurrencyFormatError(\u001b[39mf\u001b[39m\u001b[39m\"\u001b[39m\u001b[39m{\u001b[39;00mformat_type\u001b[39m!r}\u001b[39;00m\u001b[39m is not a known compact currency format type\u001b[39m\u001b[39m\"\u001b[39m) \u001b[39mfrom\u001b[39;00m \u001b[39merror\u001b[39;00m\n\u001b[0;32m--> 748\u001b[0m number, \u001b[39mformat\u001b[39m \u001b[39m=\u001b[39m _get_compact_format(number, compact_format, locale, fraction_digits)\n\u001b[1;32m    749\u001b[0m \u001b[39m# Did not find a format, fall back.\u001b[39;00m\n\u001b[1;32m    750\u001b[0m \u001b[39mif\u001b[39;00m \u001b[39mformat\u001b[39m \u001b[39mis\u001b[39;00m \u001b[39mNone\u001b[39;00m \u001b[39mor\u001b[39;00m \u001b[39m\"\u001b[39m\u001b[39m¤\u001b[39m\u001b[39m\"\u001b[39m \u001b[39mnot\u001b[39;00m \u001b[39min\u001b[39;00m \u001b[39mstr\u001b[39m(\u001b[39mformat\u001b[39m):\n\u001b[1;32m    751\u001b[0m     \u001b[39m# find first format that has a currency symbol\u001b[39;00m\n",
      "File \u001b[0;32m~/.asdf/installs/python/3.11.2/lib/python3.11/site-packages/babel/numbers.py:532\u001b[0m, in \u001b[0;36m_get_compact_format\u001b[0;34m(number, compact_format, locale, fraction_digits)\u001b[0m\n\u001b[1;32m    527\u001b[0m \u001b[39m\u001b[39m\u001b[39m\"\"\"Returns the number after dividing by the unit and the format pattern to use.\u001b[39;00m\n\u001b[1;32m    528\u001b[0m \u001b[39mThe algorithm is described here:\u001b[39;00m\n\u001b[1;32m    529\u001b[0m \u001b[39mhttps://www.unicode.org/reports/tr35/tr35-45/tr35-numbers.html#Compact_Number_Formats.\u001b[39;00m\n\u001b[1;32m    530\u001b[0m \u001b[39m\"\"\"\u001b[39;00m\n\u001b[1;32m    531\u001b[0m \u001b[39mif\u001b[39;00m \u001b[39mnot\u001b[39;00m \u001b[39misinstance\u001b[39m(number, decimal\u001b[39m.\u001b[39mDecimal):\n\u001b[0;32m--> 532\u001b[0m     number \u001b[39m=\u001b[39m decimal\u001b[39m.\u001b[39;49mDecimal(\u001b[39mstr\u001b[39;49m(number))\n\u001b[1;32m    533\u001b[0m \u001b[39mif\u001b[39;00m number\u001b[39m.\u001b[39mis_nan() \u001b[39mor\u001b[39;00m number\u001b[39m.\u001b[39mis_infinite():\n\u001b[1;32m    534\u001b[0m     \u001b[39mreturn\u001b[39;00m number, \u001b[39mNone\u001b[39;00m\n",
      "\u001b[0;31mInvalidOperation\u001b[0m: [<class 'decimal.ConversionSyntax'>]"
     ]
    }
   ],
   "source": [
    "df1.iloc[:,0] = pd.to_datetime( df1.iloc[:,0], format=\"%B de %Y\")\n",
    "df1.convert_dtypes()\n",
    "\n",
    "\n",
    "\n",
    "# df1.groupby(df1.iloc[:,0].dt.year)['Subtotal', 'Subtotal.1', 'Unnamed: 8'].sum().round(2)\n",
    "\n",
    "# df1.select_dtypes(include=[\"float64\"]) * 1000000\n",
    "df1.select_dtypes(include=[\"float64\"]).apply(lambda x: format_compact_currency(x, currency=\"BRL\", locale=\"pt_BR\", fraction_digits=2)) \n",
    "\n",
    "df1.head()\n"
   ]
  },
  {
   "attachments": {},
   "cell_type": "markdown",
   "metadata": {},
   "source": [
    "# "
   ]
  }
 ],
 "metadata": {
  "kernelspec": {
   "display_name": "Python 3",
   "language": "python",
   "name": "python3"
  },
  "language_info": {
   "codemirror_mode": {
    "name": "ipython",
    "version": 3
   },
   "file_extension": ".py",
   "mimetype": "text/x-python",
   "name": "python",
   "nbconvert_exporter": "python",
   "pygments_lexer": "ipython3",
   "version": "3.11.2"
  },
  "orig_nbformat": 4
 },
 "nbformat": 4,
 "nbformat_minor": 2
}
