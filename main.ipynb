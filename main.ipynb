{
 "cells": [
  {
   "cell_type": "code",
   "execution_count": 31,
   "metadata": {},
   "outputs": [],
   "source": [
    "import numpy as np\n",
    "import pandas as pd\n",
    "import matplotlib.pyplot as plt\n",
    "import locale\n",
    "from babel.numbers import format_compact_currency\n",
    "\n",
    "locale.setlocale(locale.LC_ALL, 'pt_BR') \n",
    "plt.style.use('grayscale')\n",
    "\n",
    "excelsheet = \"source/criptoativos_dados_abertos_02032023.xls\"\n",
    "\n",
    "with pd.ExcelFile(excelsheet) as xls:\n",
    "   df1 = pd.read_excel(xls, \"Relatorio1\",skiprows= 9, parse_dates=True, decimal=\",\")\n",
    "   df2 = pd.read_excel(xls, \"Relatorio2\")\n",
    "   df3 = pd.read_excel(xls, \"Relatório3\")\n",
    "   df4 = pd.read_excel(xls, \"Relatorio4\")\n"
   ]
  },
  {
   "cell_type": "code",
   "execution_count": 39,
   "metadata": {},
   "outputs": [
    {
     "data": {
      "text/html": [
       "<div>\n",
       "<style scoped>\n",
       "    .dataframe tbody tr th:only-of-type {\n",
       "        vertical-align: middle;\n",
       "    }\n",
       "\n",
       "    .dataframe tbody tr th {\n",
       "        vertical-align: top;\n",
       "    }\n",
       "\n",
       "    .dataframe thead th {\n",
       "        text-align: right;\n",
       "    }\n",
       "</style>\n",
       "<table border=\"1\" class=\"dataframe\">\n",
       "  <thead>\n",
       "    <tr style=\"text-align: right;\">\n",
       "      <th></th>\n",
       "      <th>Subtotal</th>\n",
       "      <th>Subtotal.1</th>\n",
       "      <th>Unnamed: 8</th>\n",
       "    </tr>\n",
       "    <tr>\n",
       "      <th>Unnamed: 0</th>\n",
       "      <th></th>\n",
       "      <th></th>\n",
       "      <th></th>\n",
       "    </tr>\n",
       "  </thead>\n",
       "  <tbody>\n",
       "    <tr>\n",
       "      <th>2019</th>\n",
       "      <td>R$ 6,51 mil</td>\n",
       "      <td>R$ 7,12 mil</td>\n",
       "      <td>R$ 27,89 mil</td>\n",
       "    </tr>\n",
       "    <tr>\n",
       "      <th>2020</th>\n",
       "      <td>R$ 27,63 mil</td>\n",
       "      <td>R$ 14,81 mil</td>\n",
       "      <td>R$ 91,7 mil</td>\n",
       "    </tr>\n",
       "    <tr>\n",
       "      <th>2021</th>\n",
       "      <td>R$ 19,51 mil</td>\n",
       "      <td>R$ 32,64 mil</td>\n",
       "      <td>R$ 204,09 mil</td>\n",
       "    </tr>\n",
       "    <tr>\n",
       "      <th>2022</th>\n",
       "      <td>R$ 12,19 mil</td>\n",
       "      <td>R$ 30,32 mil</td>\n",
       "      <td>R$ 158,95 mil</td>\n",
       "    </tr>\n",
       "    <tr>\n",
       "      <th>2023</th>\n",
       "      <td>R$ 798,17095214</td>\n",
       "      <td>R$ 2 mil</td>\n",
       "      <td>R$ 14,89 mil</td>\n",
       "    </tr>\n",
       "  </tbody>\n",
       "</table>\n",
       "</div>"
      ],
      "text/plain": [
       "                   Subtotal    Subtotal.1     Unnamed: 8\n",
       "Unnamed: 0                                              \n",
       "2019            R$ 6,51 mil   R$ 7,12 mil   R$ 27,89 mil\n",
       "2020           R$ 27,63 mil  R$ 14,81 mil    R$ 91,7 mil\n",
       "2021           R$ 19,51 mil  R$ 32,64 mil  R$ 204,09 mil\n",
       "2022           R$ 12,19 mil  R$ 30,32 mil  R$ 158,95 mil\n",
       "2023        R$ 798,17095214      R$ 2 mil   R$ 14,89 mil"
      ]
     },
     "execution_count": 39,
     "metadata": {},
     "output_type": "execute_result"
    }
   ],
   "source": [
    "# df1.iloc[:,0] = pd.to_datetime( df1.iloc[:,0], format=\"%B de %Y\")\n",
    "df1[df1.columns[0]] = pd.to_datetime( df1.iloc[:,0], format=\"%B de %Y\")\n",
    "df1.convert_dtypes()\n",
    "\n",
    "df1_new = df1.groupby(df1.iloc[:,0].dt.year)[['Subtotal', 'Subtotal.1', 'Unnamed: 8']].sum()\n",
    "\n",
    "def process_numbers(myData):\n",
    "    for i in myData.columns:\n",
    "        if myData[i].dtype == np.float64:\n",
    "            myData[i] = myData[i].apply(lambda x: format_compact_currency(x, currency=\"BRL\", locale=\"pt_BR\", fraction_digits=2)) \n",
    "        else:\n",
    "            continue\n",
    "\n",
    "process_numbers(df1_new)\n",
    "\n",
    "df1_new.head()\n"
   ]
  },
  {
   "attachments": {},
   "cell_type": "markdown",
   "metadata": {},
   "source": [
    "# "
   ]
  }
 ],
 "metadata": {
  "kernelspec": {
   "display_name": "Python 3",
   "language": "python",
   "name": "python3"
  },
  "language_info": {
   "codemirror_mode": {
    "name": "ipython",
    "version": 3
   },
   "file_extension": ".py",
   "mimetype": "text/x-python",
   "name": "python",
   "nbconvert_exporter": "python",
   "pygments_lexer": "ipython3",
   "version": "3.11.2"
  },
  "orig_nbformat": 4
 },
 "nbformat": 4,
 "nbformat_minor": 2
}
