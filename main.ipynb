{
 "cells": [
  {
   "cell_type": "code",
   "execution_count": 130,
   "metadata": {},
   "outputs": [
    {
     "data": {
      "text/plain": [
       "'pt_BR'"
      ]
     },
     "execution_count": 130,
     "metadata": {},
     "output_type": "execute_result"
    }
   ],
   "source": [
    "import pandas as pd\n",
    "import matplotlib.pyplot as plt\n",
    "import locale\n",
    "\n",
    "locale.setlocale(locale.LC_ALL, 'pt_BR') \n",
    "plt.style.use('grayscale')"
   ]
  },
  {
   "cell_type": "code",
   "execution_count": 192,
   "metadata": {},
   "outputs": [
    {
     "name": "stderr",
     "output_type": "stream",
     "text": [
      "/var/folders/zg/ln0dh6h10cl5khbtyvg5z5rm0000gn/T/ipykernel_39304/260255933.py:9: DeprecationWarning: In a future version, `df.iloc[:, i] = newvals` will attempt to set the values inplace instead of always setting a new array. To retain the old behavior, use either `df[df.columns[i]] = newvals` or, if columns are non-unique, `df.isetitem(i, newvals)`\n",
      "  df1.iloc[:,0] = pd.to_datetime( df1.iloc[:,0], format=\"%B de %Y\")\n",
      "/var/folders/zg/ln0dh6h10cl5khbtyvg5z5rm0000gn/T/ipykernel_39304/260255933.py:12: FutureWarning: Indexing with multiple keys (implicitly converted to a tuple of keys) will be deprecated, use a list instead.\n",
      "  df1.groupby(df1.iloc[:,0].dt.year)['Subtotal', 'Subtotal.1', 'Unnamed: 8'].sum()\n"
     ]
    },
    {
     "data": {
      "text/html": [
       "<div>\n",
       "<style scoped>\n",
       "    .dataframe tbody tr th:only-of-type {\n",
       "        vertical-align: middle;\n",
       "    }\n",
       "\n",
       "    .dataframe tbody tr th {\n",
       "        vertical-align: top;\n",
       "    }\n",
       "\n",
       "    .dataframe thead th {\n",
       "        text-align: right;\n",
       "    }\n",
       "</style>\n",
       "<table border=\"1\" class=\"dataframe\">\n",
       "  <thead>\n",
       "    <tr style=\"text-align: right;\">\n",
       "      <th></th>\n",
       "      <th>Subtotal</th>\n",
       "      <th>Subtotal.1</th>\n",
       "      <th>Unnamed: 8</th>\n",
       "    </tr>\n",
       "    <tr>\n",
       "      <th>Unnamed: 0</th>\n",
       "      <th></th>\n",
       "      <th></th>\n",
       "      <th></th>\n",
       "    </tr>\n",
       "  </thead>\n",
       "  <tbody>\n",
       "    <tr>\n",
       "      <th>2019</th>\n",
       "      <td>6512.124643</td>\n",
       "      <td>7118.999575</td>\n",
       "      <td>27885.552623</td>\n",
       "    </tr>\n",
       "    <tr>\n",
       "      <th>2020</th>\n",
       "      <td>27634.552870</td>\n",
       "      <td>14807.512531</td>\n",
       "      <td>91702.033422</td>\n",
       "    </tr>\n",
       "    <tr>\n",
       "      <th>2021</th>\n",
       "      <td>19510.487646</td>\n",
       "      <td>32638.543397</td>\n",
       "      <td>204088.705659</td>\n",
       "    </tr>\n",
       "    <tr>\n",
       "      <th>2022</th>\n",
       "      <td>12185.042980</td>\n",
       "      <td>30324.572601</td>\n",
       "      <td>158945.791486</td>\n",
       "    </tr>\n",
       "    <tr>\n",
       "      <th>2023</th>\n",
       "      <td>798.170952</td>\n",
       "      <td>1998.873098</td>\n",
       "      <td>14891.628944</td>\n",
       "    </tr>\n",
       "  </tbody>\n",
       "</table>\n",
       "</div>"
      ],
      "text/plain": [
       "                Subtotal    Subtotal.1     Unnamed: 8\n",
       "Unnamed: 0                                           \n",
       "2019         6512.124643   7118.999575   27885.552623\n",
       "2020        27634.552870  14807.512531   91702.033422\n",
       "2021        19510.487646  32638.543397  204088.705659\n",
       "2022        12185.042980  30324.572601  158945.791486\n",
       "2023          798.170952   1998.873098   14891.628944"
      ]
     },
     "execution_count": 192,
     "metadata": {},
     "output_type": "execute_result"
    }
   ],
   "source": [
    "excelsheet = \"source/criptoativos_dados_abertos_02032023.xls\"\n",
    "\n",
    "with pd.ExcelFile(excelsheet) as xls:\n",
    "   df1 = pd.read_excel(xls, \"Relatorio1\",skiprows= 9, parse_dates=True, decimal=\",\")\n",
    "   df2 = pd.read_excel(xls, \"Relatorio2\")\n",
    "   df3 = pd.read_excel(xls, \"Relatório3\")\n",
    "   df4 = pd.read_excel(xls, \"Relatorio4\")\n",
    "\n",
    "df1.iloc[:,0] = pd.to_datetime( df1.iloc[:,0], format=\"%B de %Y\")\n",
    "df1.convert_dtypes()\n",
    "# df1.dtypes\n",
    "df1.groupby(df1.iloc[:,0].dt.year)['Subtotal', 'Subtotal.1', 'Unnamed: 8'].sum()\n",
    "\n",
    "\n"
   ]
  },
  {
   "attachments": {},
   "cell_type": "markdown",
   "metadata": {},
   "source": [
    "# "
   ]
  }
 ],
 "metadata": {
  "kernelspec": {
   "display_name": "Python 3",
   "language": "python",
   "name": "python3"
  },
  "language_info": {
   "codemirror_mode": {
    "name": "ipython",
    "version": 3
   },
   "file_extension": ".py",
   "mimetype": "text/x-python",
   "name": "python",
   "nbconvert_exporter": "python",
   "pygments_lexer": "ipython3",
   "version": "3.11.2"
  },
  "orig_nbformat": 4
 },
 "nbformat": 4,
 "nbformat_minor": 2
}
