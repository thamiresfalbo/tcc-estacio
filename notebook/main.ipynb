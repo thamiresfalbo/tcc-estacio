{
 "cells": [
  {
   "cell_type": "markdown",
   "metadata": {},
   "source": [
    "# Análise de Dados Abertos\n"
   ]
  },
  {
   "cell_type": "code",
   "execution_count": 120,
   "metadata": {
    "tags": []
   },
   "outputs": [],
   "source": [
    "import pandas as pd\n",
    "import numpy as np\n",
    "from babel.numbers import format_compact_currency\n",
    "import matplotlib.pyplot as plt\n",
    "import locale\n",
    "import tabulate\n",
    "\n",
    "locale.setlocale(locale.LC_ALL, \"pt_BR\")\n",
    "plt.style.use(\"default\")\n",
    "excelsheet = \"../data/criptoativos_dados_abertos_07082023.xls\"\n",
    "\n",
    "# Carrega a planilha excel\n",
    "with pd.ExcelFile(excelsheet) as xls:\n",
    "    df1 = pd.read_excel(\n",
    "        xls,\n",
    "        \"Relatorio1\",\n",
    "        skiprows=9,\n",
    "        decimal=\",\",\n",
    "        parse_dates=[0],\n",
    "        date_format=\"%B de %Y\",\n",
    "        usecols=[0, 3, 6, 7, 8],\n",
    "    )\n",
    "    df2 = pd.read_excel(\n",
    "        xls,\n",
    "        \"Relatorio2\",\n",
    "        skiprows=5,\n",
    "        parse_dates=[0],\n",
    "        date_format=\"%B de %Y\",\n",
    "        decimal=\".\",\n",
    "    )\n",
    "    df3 = pd.read_excel(\n",
    "        xls,\n",
    "        \"Relatório3\",\n",
    "        skiprows=5,\n",
    "        parse_dates=[0],\n",
    "        date_format=\"%B de %Y\",\n",
    "        header=[0, 1],\n",
    "    )\n",
    "    df4 = pd.read_excel(\n",
    "        xls,\n",
    "        \"Relatorio4\",\n",
    "        skiprows=13,\n",
    "        decimal=\",\",\n",
    "        parse_dates=[1],\n",
    "        date_format=\"%B de %Y\",\n",
    "    )\n",
    "\n",
    "\n",
    "# Utilitários\n",
    "def format_cols(data):\n",
    "    for i in data.columns:\n",
    "        if data[i].dtype == np.float64:\n",
    "            data[i] = data[i].apply(\n",
    "                lambda x: format_compact_currency(\n",
    "                    x, currency=\"BRL\", locale=\"pt_BR\", fraction_digits=2\n",
    "                )\n",
    "            )"
   ]
  },
  {
   "cell_type": "markdown",
   "metadata": {},
   "source": [
    "## Total de Valores Declarados por Ano\n"
   ]
  },
  {
   "cell_type": "code",
   "execution_count": 132,
   "metadata": {},
   "outputs": [
    {
     "data": {
      "text/html": [
       "<div>\n",
       "<style scoped>\n",
       "    .dataframe tbody tr th:only-of-type {\n",
       "        vertical-align: middle;\n",
       "    }\n",
       "\n",
       "    .dataframe tbody tr th {\n",
       "        vertical-align: top;\n",
       "    }\n",
       "\n",
       "    .dataframe thead th {\n",
       "        text-align: right;\n",
       "    }\n",
       "</style>\n",
       "<table border=\"1\" class=\"dataframe\">\n",
       "  <thead>\n",
       "    <tr style=\"text-align: right;\">\n",
       "      <th></th>\n",
       "      <th>Exchanges no Exterior</th>\n",
       "      <th>Sem Exchanges</th>\n",
       "      <th>Exchanges</th>\n",
       "      <th>Total</th>\n",
       "    </tr>\n",
       "    <tr>\n",
       "      <th>Ano</th>\n",
       "      <th></th>\n",
       "      <th></th>\n",
       "      <th></th>\n",
       "      <th></th>\n",
       "    </tr>\n",
       "  </thead>\n",
       "  <tbody>\n",
       "    <tr>\n",
       "      <th>2019-12-31</th>\n",
       "      <td>R$ 6,51 mil</td>\n",
       "      <td>R$ 7,12 mil</td>\n",
       "      <td>R$ 14,25 mil</td>\n",
       "      <td>R$ 27,89 mil</td>\n",
       "    </tr>\n",
       "    <tr>\n",
       "      <th>2020-12-31</th>\n",
       "      <td>R$ 27,73 mil</td>\n",
       "      <td>R$ 14,96 mil</td>\n",
       "      <td>R$ 49,38 mil</td>\n",
       "      <td>R$ 92,07 mil</td>\n",
       "    </tr>\n",
       "    <tr>\n",
       "      <th>2021-12-31</th>\n",
       "      <td>R$ 21,43 mil</td>\n",
       "      <td>R$ 33,2 mil</td>\n",
       "      <td>R$ 152,03 mil</td>\n",
       "      <td>R$ 206,65 mil</td>\n",
       "    </tr>\n",
       "    <tr>\n",
       "      <th>2022-12-31</th>\n",
       "      <td>R$ 14,64 mil</td>\n",
       "      <td>R$ 29,01 mil</td>\n",
       "      <td>R$ 123,04 mil</td>\n",
       "      <td>R$ 166,69 mil</td>\n",
       "    </tr>\n",
       "    <tr>\n",
       "      <th>2023-12-31</th>\n",
       "      <td>R$ 12,03 mil</td>\n",
       "      <td>R$ 14,71 mil</td>\n",
       "      <td>R$ 83,87 mil</td>\n",
       "      <td>R$ 110,6 mil</td>\n",
       "    </tr>\n",
       "  </tbody>\n",
       "</table>\n",
       "</div>"
      ],
      "text/plain": [
       "           Exchanges no Exterior Sem Exchanges      Exchanges          Total\n",
       "Ano                                                                         \n",
       "2019-12-31           R$ 6,51 mil   R$ 7,12 mil   R$ 14,25 mil   R$ 27,89 mil\n",
       "2020-12-31          R$ 27,73 mil  R$ 14,96 mil   R$ 49,38 mil   R$ 92,07 mil\n",
       "2021-12-31          R$ 21,43 mil   R$ 33,2 mil  R$ 152,03 mil  R$ 206,65 mil\n",
       "2022-12-31          R$ 14,64 mil  R$ 29,01 mil  R$ 123,04 mil  R$ 166,69 mil\n",
       "2023-12-31          R$ 12,03 mil  R$ 14,71 mil   R$ 83,87 mil   R$ 110,6 mil"
      ]
     },
     "execution_count": 132,
     "metadata": {},
     "output_type": "execute_result"
    }
   ],
   "source": [
    "# Renderiza Relatório1\n",
    "df1 = df1.rename(\n",
    "    columns={\n",
    "        \"Unnamed: 0\": \"Ano\",\n",
    "        \"Subtotal\": \"Exchanges no Exterior\",\n",
    "        \"Subtotal.1\": \"Sem Exchanges\",\n",
    "        \"Somente PJ\": \"Exchanges\",\n",
    "        \"Unnamed: 8\": \"Total\",\n",
    "    }\n",
    ")\n",
    "\n",
    "df1_new = df1.groupby(pd.Grouper(key=df1.columns[0], freq=\"Y\")).sum()\n",
    "format_cols(df1_new)\n",
    "#TODO usar um heightmap\n",
    "df1_new"
   ]
  },
  {
   "cell_type": "markdown",
   "metadata": {},
   "source": [
    "## Quantidade de CPF/CNPJ Únicos\n"
   ]
  },
  {
   "cell_type": "code",
   "execution_count": 122,
   "metadata": {},
   "outputs": [
    {
     "data": {
      "text/html": [
       "<div>\n",
       "<style scoped>\n",
       "    .dataframe tbody tr th:only-of-type {\n",
       "        vertical-align: middle;\n",
       "    }\n",
       "\n",
       "    .dataframe tbody tr th {\n",
       "        vertical-align: top;\n",
       "    }\n",
       "\n",
       "    .dataframe thead th {\n",
       "        text-align: right;\n",
       "    }\n",
       "</style>\n",
       "<table border=\"1\" class=\"dataframe\">\n",
       "  <thead>\n",
       "    <tr style=\"text-align: right;\">\n",
       "      <th></th>\n",
       "      <th>CNPJ</th>\n",
       "      <th>CPF</th>\n",
       "    </tr>\n",
       "    <tr>\n",
       "      <th>MÊS/ANO</th>\n",
       "      <th></th>\n",
       "      <th></th>\n",
       "    </tr>\n",
       "  </thead>\n",
       "  <tbody>\n",
       "    <tr>\n",
       "      <th>2019-12-31</th>\n",
       "      <td>12121</td>\n",
       "      <td>680054</td>\n",
       "    </tr>\n",
       "    <tr>\n",
       "      <th>2020-12-31</th>\n",
       "      <td>37611</td>\n",
       "      <td>1500287</td>\n",
       "    </tr>\n",
       "    <tr>\n",
       "      <th>2021-12-31</th>\n",
       "      <td>78290</td>\n",
       "      <td>6030838</td>\n",
       "    </tr>\n",
       "    <tr>\n",
       "      <th>2022-12-31</th>\n",
       "      <td>406008</td>\n",
       "      <td>11868506</td>\n",
       "    </tr>\n",
       "    <tr>\n",
       "      <th>2023-12-31</th>\n",
       "      <td>409524</td>\n",
       "      <td>11432616</td>\n",
       "    </tr>\n",
       "  </tbody>\n",
       "</table>\n",
       "</div>"
      ],
      "text/plain": [
       "              CNPJ       CPF\n",
       "MÊS/ANO                     \n",
       "2019-12-31   12121    680054\n",
       "2020-12-31   37611   1500287\n",
       "2021-12-31   78290   6030838\n",
       "2022-12-31  406008  11868506\n",
       "2023-12-31  409524  11432616"
      ]
     },
     "execution_count": 122,
     "metadata": {},
     "output_type": "execute_result"
    }
   ],
   "source": [
    "# Renderiza Relatório2\n",
    "df2_new = df2.groupby(pd.Grouper(key=df2.columns[0], freq=\"Y\")).sum()\n",
    "df2_new"
   ]
  },
  {
   "cell_type": "markdown",
   "metadata": {},
   "source": [
    "## Operações por gênero\n"
   ]
  },
  {
   "cell_type": "code",
   "execution_count": 123,
   "metadata": {},
   "outputs": [
    {
     "data": {
      "text/plain": [
       "Text(0, 0.5, 'Valor de Operações(%)')"
      ]
     },
     "execution_count": 123,
     "metadata": {},
     "output_type": "execute_result"
    },
    {
     "data": {
      "image/png": "[encoded data removed]",
      "text/plain": [
       "<Figure size 640x480 with 1 Axes>"
      ]
     },
     "metadata": {},
     "output_type": "display_data"
    }
   ],
   "source": [
    "# Renderiza Relatório3, parte 1\n",
    "# Não vai ser possível unir os dados, já que são porcentagens!\n",
    "# df3.info()\n",
    "plt.scatter(df3[\"% Nº Operações\",'Feminino'],df3['% Valor Operações', 'Feminino'])\n",
    "plt.title('Feminino')\n",
    "plt.xlabel(\"Número de Operações(%)\")\n",
    "plt.ylabel(\"Valor de Operações(%)\")"
   ]
  },
  {
   "cell_type": "code",
   "execution_count": 124,
   "metadata": {},
   "outputs": [
    {
     "data": {
      "text/plain": [
       "Text(0, 0.5, 'Valor de Operações(%)')"
      ]
     },
     "execution_count": 124,
     "metadata": {},
     "output_type": "execute_result"
    },
    {
     "data": {
      "image/png": "[encoded data removed]",
      "text/plain": [
       "<Figure size 640x480 with 1 Axes>"
      ]
     },
     "metadata": {},
     "output_type": "display_data"
    }
   ],
   "source": [
    "plt.scatter(df3[\"% Nº Operações\",'Masculino'],df3['% Valor Operações', 'Masculino'],)\n",
    "plt.title('Masculino')\n",
    "plt.xlabel(\"Número de Operações(%)\")\n",
    "plt.ylabel(\"Valor de Operações(%)\")"
   ]
  },
  {
   "cell_type": "markdown",
   "metadata": {},
   "source": [
    "## Criptoativos Declarados\n"
   ]
  },
  {
   "cell_type": "code",
   "execution_count": 126,
   "metadata": {},
   "outputs": [
    {
     "name": "stdout",
     "output_type": "stream",
     "text": [
      "<class 'pandas.core.series.Series'>\n",
      "MultiIndex: 2485 entries, ('AAVE', Timestamp('2020-08-01 00:00:00')) to ('ZRX', Timestamp('2023-06-01 00:00:00'))\n",
      "Series name: VALOR TOTAL DAS OPERAÇÕES\n",
      "Non-Null Count  Dtype  \n",
      "--------------  -----  \n",
      "2485 non-null   float64\n",
      "dtypes: float64(1)\n",
      "memory usage: 25.3+ KB\n"
     ]
    }
   ],
   "source": [
    "# Renderiza Relatório 4\n",
    "# https://stackoverflow.com/questions/39922986/how-do-i-pandas-group-by-to-get-sum\n",
    "# df4.info()\n",
    "df4_new = df4.groupby([\"CRIPTOATIVO\", \"MÊS/ANO\"])[\"VALOR TOTAL DAS OPERAÇÕES\"].sum()\n",
    "df4_new.head()"
   ]
  }
 ],
 "metadata": {
  "kernelspec": {
   "display_name": "Python 3 (ipykernel)",
   "language": "python",
   "name": "python3"
  },
  "language_info": {
   "codemirror_mode": {
    "name": "ipython",
    "version": 3
   },
   "file_extension": ".py",
   "mimetype": "text/x-python",
   "name": "python",
   "nbconvert_exporter": "python",
   "pygments_lexer": "ipython3",
   "version": "3.11.4"
  }
 },
 "nbformat": 4,
 "nbformat_minor": 4
}
