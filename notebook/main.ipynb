{
 "cells": [
  {
   "cell_type": "markdown",
   "metadata": {},
   "source": [
    "# Análise de Dados Abertos\n"
   ]
  },
  {
   "cell_type": "code",
   "execution_count": 7,
   "metadata": {
    "tags": []
   },
   "outputs": [],
   "source": [
    "import numpy as np\n",
    "import pandas as pd\n",
    "from babel.numbers import format_compact_currency\n",
    "import matplotlib.pyplot as plt\n",
    "import locale\n",
    "\n",
    "locale.setlocale(locale.LC_ALL, \"pt_BR\")\n",
    "plt.style.use(\"grayscale\")\n",
    "excelsheet = \"../data/criptoativos_dados_abertos_07082023.xls\"\n",
    "\n",
    "# Carrega a planilha excel\n",
    "with pd.ExcelFile(excelsheet) as xls:\n",
    "    df1 = pd.read_excel(\n",
    "        xls,\n",
    "        \"Relatorio1\",\n",
    "        skiprows=9,\n",
    "        decimal=\",\",\n",
    "        parse_dates=[0],\n",
    "        date_format=\"%B de %Y\",\n",
    "        usecols=[0, 3, 6, 7, 8],\n",
    "    )\n",
    "    df2 = pd.read_excel(xls, \"Relatorio2\")\n",
    "    df3 = pd.read_excel(xls, \"Relatório3\")\n",
    "    df4 = pd.read_excel(xls, \"Relatorio4\")\n",
    "\n",
    "\n",
    "# Utilitários\n",
    "def format_cols(data):\n",
    "    for i in data.columns:\n",
    "        if data[i].dtype == np.float64:\n",
    "            data[i] = data[i].apply(\n",
    "                lambda x: format_compact_currency(\n",
    "                    x, currency=\"BRL\", locale=\"pt_BR\", fraction_digits=2\n",
    "                )\n",
    "            )"
   ]
  },
  {
   "cell_type": "markdown",
   "metadata": {},
   "source": [
    "## Total de Valores Declarados por Ano\n"
   ]
  },
  {
   "cell_type": "code",
   "execution_count": 8,
   "metadata": {},
   "outputs": [
    {
     "data": {
      "text/html": [
       "<div>\n",
       "<style scoped>\n",
       "    .dataframe tbody tr th:only-of-type {\n",
       "        vertical-align: middle;\n",
       "    }\n",
       "\n",
       "    .dataframe tbody tr th {\n",
       "        vertical-align: top;\n",
       "    }\n",
       "\n",
       "    .dataframe thead th {\n",
       "        text-align: right;\n",
       "    }\n",
       "</style>\n",
       "<table border=\"1\" class=\"dataframe\">\n",
       "  <thead>\n",
       "    <tr style=\"text-align: right;\">\n",
       "      <th></th>\n",
       "      <th>Exchanges no Exterior</th>\n",
       "      <th>Sem Exchanges</th>\n",
       "      <th>Exchanges</th>\n",
       "      <th>Total</th>\n",
       "    </tr>\n",
       "    <tr>\n",
       "      <th>Ano</th>\n",
       "      <th></th>\n",
       "      <th></th>\n",
       "      <th></th>\n",
       "      <th></th>\n",
       "    </tr>\n",
       "  </thead>\n",
       "  <tbody>\n",
       "    <tr>\n",
       "      <th>2019-12-31</th>\n",
       "      <td>R$ 6,51 mil</td>\n",
       "      <td>R$ 7,12 mil</td>\n",
       "      <td>R$ 14,25 mil</td>\n",
       "      <td>R$ 27,89 mil</td>\n",
       "    </tr>\n",
       "    <tr>\n",
       "      <th>2020-12-31</th>\n",
       "      <td>R$ 27,73 mil</td>\n",
       "      <td>R$ 14,96 mil</td>\n",
       "      <td>R$ 49,38 mil</td>\n",
       "      <td>R$ 92,07 mil</td>\n",
       "    </tr>\n",
       "    <tr>\n",
       "      <th>2021-12-31</th>\n",
       "      <td>R$ 21,43 mil</td>\n",
       "      <td>R$ 33,2 mil</td>\n",
       "      <td>R$ 152,03 mil</td>\n",
       "      <td>R$ 206,65 mil</td>\n",
       "    </tr>\n",
       "    <tr>\n",
       "      <th>2022-12-31</th>\n",
       "      <td>R$ 14,64 mil</td>\n",
       "      <td>R$ 29,01 mil</td>\n",
       "      <td>R$ 123,04 mil</td>\n",
       "      <td>R$ 166,69 mil</td>\n",
       "    </tr>\n",
       "    <tr>\n",
       "      <th>2023-12-31</th>\n",
       "      <td>R$ 12,03 mil</td>\n",
       "      <td>R$ 14,71 mil</td>\n",
       "      <td>R$ 83,87 mil</td>\n",
       "      <td>R$ 110,6 mil</td>\n",
       "    </tr>\n",
       "  </tbody>\n",
       "</table>\n",
       "</div>"
      ],
      "text/plain": [
       "           Exchanges no Exterior Sem Exchanges      Exchanges          Total\n",
       "Ano                                                                         \n",
       "2019-12-31           R$ 6,51 mil   R$ 7,12 mil   R$ 14,25 mil   R$ 27,89 mil\n",
       "2020-12-31          R$ 27,73 mil  R$ 14,96 mil   R$ 49,38 mil   R$ 92,07 mil\n",
       "2021-12-31          R$ 21,43 mil   R$ 33,2 mil  R$ 152,03 mil  R$ 206,65 mil\n",
       "2022-12-31          R$ 14,64 mil  R$ 29,01 mil  R$ 123,04 mil  R$ 166,69 mil\n",
       "2023-12-31          R$ 12,03 mil  R$ 14,71 mil   R$ 83,87 mil   R$ 110,6 mil"
      ]
     },
     "execution_count": 8,
     "metadata": {},
     "output_type": "execute_result"
    }
   ],
   "source": [
    "# Renderiza Relatório1\n",
    "df1 = df1.rename(\n",
    "    columns={\n",
    "        \"Unnamed: 0\": \"Ano\",\n",
    "        \"Subtotal\": \"Exchanges no Exterior\",\n",
    "        \"Subtotal.1\": \"Sem Exchanges\",\n",
    "        \"Somente PJ\": \"Exchanges\",\n",
    "        \"Unnamed: 8\": \"Total\",\n",
    "    }\n",
    ")\n",
    "\n",
    "df1_new = df1.groupby(pd.Grouper(key=df1.columns[0], freq=\"Y\")).sum()\n",
    "format_cols(df1_new)\n",
    "df1_new"
   ]
  },
  {
   "cell_type": "markdown",
   "metadata": {},
   "source": [
    "## Quantidade de CPF/CNPJ Únicos\n"
   ]
  },
  {
   "cell_type": "code",
   "execution_count": 9,
   "metadata": {},
   "outputs": [],
   "source": [
    "# Renderiza Relatório2"
   ]
  },
  {
   "cell_type": "markdown",
   "metadata": {},
   "source": [
    "## Número de Operações, por gênero\n"
   ]
  },
  {
   "cell_type": "code",
   "execution_count": 10,
   "metadata": {},
   "outputs": [],
   "source": [
    "# Renderiza Relatório3, parte 1"
   ]
  },
  {
   "cell_type": "markdown",
   "metadata": {},
   "source": [
    "## Valor das Operações, por gênero\n"
   ]
  },
  {
   "cell_type": "code",
   "execution_count": 11,
   "metadata": {},
   "outputs": [],
   "source": [
    "# Renderiza Relatório 3, parte 2"
   ]
  },
  {
   "cell_type": "markdown",
   "metadata": {},
   "source": [
    "## Criptoativos Declarados\n"
   ]
  },
  {
   "cell_type": "code",
   "execution_count": 12,
   "metadata": {},
   "outputs": [],
   "source": [
    "# Renderiza Relatório 4"
   ]
  }
 ],
 "metadata": {
  "kernelspec": {
   "display_name": "Python 3 (ipykernel)",
   "language": "python",
   "name": "python3"
  },
  "language_info": {
   "codemirror_mode": {
    "name": "ipython",
    "version": 3
   },
   "file_extension": ".py",
   "mimetype": "text/x-python",
   "name": "python",
   "nbconvert_exporter": "python",
   "pygments_lexer": "ipython3",
   "version": "3.11.4"
  }
 },
 "nbformat": 4,
 "nbformat_minor": 4
}
