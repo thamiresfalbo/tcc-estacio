{
 "cells": [
  {
   "cell_type": "markdown",
   "metadata": {},
   "source": [
    "# Análise de Dados Abertos"
   ]
  },
  {
   "cell_type": "code",
   "execution_count": 1,
   "metadata": {
    "tags": []
   },
   "outputs": [],
   "source": [
    "import numpy as np\n",
    "import pandas as pd\n",
    "from babel.numbers import format_compact_currency\n",
    "import matplotlib.pyplot as plt\n",
    "import locale\n",
    "import datetime\n",
    "\n",
    "locale.setlocale(locale.LC_ALL, 'pt_BR') \n",
    "plt.style.use('grayscale')\n",
    "excelsheet = \"../data/criptoativos_dados_abertos_09072023.xls\"\n",
    "\n",
    "# Carrega a planilha excel\n",
    "with pd.ExcelFile(excelsheet) as xls:\n",
    "   df1 = pd.read_excel(xls, \"Relatorio1\", skiprows = 9, decimal=\",\",parse_dates=[0],date_format=\"%B de %Y\",usecols=[0,3,6,7,8])\n",
    "   # df2 = pd.read_excel(xls, \"Relatorio2\")\n",
    "   # df3 = pd.read_excel(xls, \"Relatório3\")\n",
    "   # df4 = pd.read_excel(xls, \"Relatorio4\")"
   ]
  },
  {
   "cell_type": "code",
   "execution_count": 5,
   "metadata": {},
   "outputs": [
    {
     "data": {
      "text/html": [
       "<div>\n",
       "<style scoped>\n",
       "    .dataframe tbody tr th:only-of-type {\n",
       "        vertical-align: middle;\n",
       "    }\n",
       "\n",
       "    .dataframe tbody tr th {\n",
       "        vertical-align: top;\n",
       "    }\n",
       "\n",
       "    .dataframe thead th {\n",
       "        text-align: right;\n",
       "    }\n",
       "</style>\n",
       "<table border=\"1\" class=\"dataframe\">\n",
       "  <thead>\n",
       "    <tr style=\"text-align: right;\">\n",
       "      <th></th>\n",
       "      <th>Exchanges no Exterior</th>\n",
       "      <th>Sem Exchanges</th>\n",
       "      <th>Exchanges</th>\n",
       "      <th>Total</th>\n",
       "    </tr>\n",
       "    <tr>\n",
       "      <th>Ano</th>\n",
       "      <th></th>\n",
       "      <th></th>\n",
       "      <th></th>\n",
       "      <th></th>\n",
       "    </tr>\n",
       "  </thead>\n",
       "  <tbody>\n",
       "    <tr>\n",
       "      <th>2019-12-31</th>\n",
       "      <td>R$ 6,51 mil</td>\n",
       "      <td>R$ 7,12 mil</td>\n",
       "      <td>R$ 14,25 mil</td>\n",
       "      <td>R$ 27,89 mil</td>\n",
       "    </tr>\n",
       "    <tr>\n",
       "      <th>2020-12-31</th>\n",
       "      <td>R$ 27,73 mil</td>\n",
       "      <td>R$ 14,96 mil</td>\n",
       "      <td>R$ 49,38 mil</td>\n",
       "      <td>R$ 92,07 mil</td>\n",
       "    </tr>\n",
       "    <tr>\n",
       "      <th>2021-12-31</th>\n",
       "      <td>R$ 21,42 mil</td>\n",
       "      <td>R$ 33,18 mil</td>\n",
       "      <td>R$ 152,03 mil</td>\n",
       "      <td>R$ 206,62 mil</td>\n",
       "    </tr>\n",
       "    <tr>\n",
       "      <th>2022-12-31</th>\n",
       "      <td>R$ 14,61 mil</td>\n",
       "      <td>R$ 29,34 mil</td>\n",
       "      <td>R$ 121,84 mil</td>\n",
       "      <td>R$ 165,79 mil</td>\n",
       "    </tr>\n",
       "    <tr>\n",
       "      <th>2023-12-31</th>\n",
       "      <td>R$ 7,45 mil</td>\n",
       "      <td>R$ 6,57 mil</td>\n",
       "      <td>R$ 40,33 mil</td>\n",
       "      <td>R$ 54,35 mil</td>\n",
       "    </tr>\n",
       "  </tbody>\n",
       "</table>\n",
       "</div>"
      ],
      "text/plain": [
       "           Exchanges no Exterior Sem Exchanges      Exchanges          Total\n",
       "Ano                                                                         \n",
       "2019-12-31           R$ 6,51 mil   R$ 7,12 mil   R$ 14,25 mil   R$ 27,89 mil\n",
       "2020-12-31          R$ 27,73 mil  R$ 14,96 mil   R$ 49,38 mil   R$ 92,07 mil\n",
       "2021-12-31          R$ 21,42 mil  R$ 33,18 mil  R$ 152,03 mil  R$ 206,62 mil\n",
       "2022-12-31          R$ 14,61 mil  R$ 29,34 mil  R$ 121,84 mil  R$ 165,79 mil\n",
       "2023-12-31           R$ 7,45 mil   R$ 6,57 mil   R$ 40,33 mil   R$ 54,35 mil"
      ]
     },
     "execution_count": 5,
     "metadata": {},
     "output_type": "execute_result"
    }
   ],
   "source": [
    "# Renderiza a primeira planilha\n",
    "df1 = df1.rename(columns={\"Unnamed: 0\": \"Ano\", \"Subtotal\": \"Exchanges no Exterior\", \"Subtotal.1\": \"Sem Exchanges\", \"Somente PJ\": \"Exchanges\", \"Unnamed: 8\": \"Total\" })\n",
    "\n",
    "def format_cols(data):\n",
    "    for i in data.columns:\n",
    "        if data[i].dtype == np.float64:\n",
    "            data[i] = data[i].apply(lambda x: format_compact_currency(x, currency=\"BRL\", locale=\"pt_BR\", fraction_digits=2))\n",
    "\n",
    "df1_new = df1.groupby(pd.Grouper(key=df1.columns[0],freq='1Y')).sum()\n",
    "format_cols(df1_new)\n",
    "# df1_new['Exchanges no Exterior'] = df1_new['Exchanges no Exterior'].apply(currency())\n",
    "df1_new.head()"
   ]
  },
  {
   "attachments": {},
   "cell_type": "markdown",
   "metadata": {
    "jp-MarkdownHeadingCollapsed": true
   },
   "source": [
    "# "
   ]
  }
 ],
 "metadata": {
  "kernelspec": {
   "display_name": "Python 3 (ipykernel)",
   "language": "python",
   "name": "python3"
  },
  "language_info": {
   "codemirror_mode": {
    "name": "ipython",
    "version": 3
   },
   "file_extension": ".py",
   "mimetype": "text/x-python",
   "name": "python",
   "nbconvert_exporter": "python",
   "pygments_lexer": "ipython3",
   "version": "3.11.4"
  }
 },
 "nbformat": 4,
 "nbformat_minor": 4
}
